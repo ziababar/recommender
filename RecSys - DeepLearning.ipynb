{
 "cells": [
  {
   "cell_type": "markdown",
   "metadata": {},
   "source": [
    "Source code originally from\n",
    "https://github.com/Wann-Jiun/nycdsa_project_5_recommender/blob/master/deep_learning.ipynb\n",
    "\n",
    "Blog post from\n",
    "https://nycdatascience.com/blog/student-works/deep-learning-meets-recommendation-systems/\n"
   ]
  },
  {
   "cell_type": "markdown",
   "metadata": {},
   "source": [
    "<h2>Step 1 - Read in initial movie data</h2>"
   ]
  },
  {
   "cell_type": "code",
   "execution_count": null,
   "metadata": {},
   "outputs": [],
   "source": [
    "import numpy as np\n",
    "import pandas as pd"
   ]
  },
  {
   "cell_type": "markdown",
   "metadata": {},
   "source": [
    "The links.csv file has a list of movies, and their IMDB IDs. This is the movie dataset that we'll be using in this notebook."
   ]
  },
  {
   "cell_type": "code",
   "execution_count": null,
   "metadata": {},
   "outputs": [],
   "source": [
    "# Read in the link.csv file and store the information in a dataframe\n",
    "df_data = pd.read_csv('/home/nbuser/library/dataset/ml-latest-small/links.csv', sep=',')"
   ]
  },
  {
   "cell_type": "code",
   "execution_count": null,
   "metadata": {},
   "outputs": [],
   "source": [
    "# Check the type of df_id\n",
    "type(df_data)"
   ]
  },
  {
   "cell_type": "code",
   "execution_count": null,
   "metadata": {},
   "outputs": [],
   "source": [
    "# Print the first few records from the dataframe\n",
    "df_data.head()"
   ]
  },
  {
   "cell_type": "code",
   "execution_count": null,
   "metadata": {},
   "outputs": [],
   "source": [
    "# Check the number of movie links that were read in.\n",
    "len(df_data.index)"
   ]
  },
  {
   "cell_type": "code",
   "execution_count": null,
   "metadata": {},
   "outputs": [],
   "source": [
    "# Iterate over the dataframe rows as namedtuples, extracting the IMDB ID and storing it in the idx_to_movie dict object.\n",
    "idx_to_movie = {}\n",
    "for row in df_data.itertuples():\n",
    "    idx_to_movie[row[1]-1] = row[2]"
   ]
  },
  {
   "cell_type": "code",
   "execution_count": null,
   "metadata": {},
   "outputs": [],
   "source": [
    "type(idx_to_movie)"
   ]
  },
  {
   "cell_type": "code",
   "execution_count": null,
   "metadata": {},
   "outputs": [],
   "source": [
    "# Print therecords from the dataframe. The two columns represent an index value and the corresponding IMDB ID\n",
    "idx_to_movie"
   ]
  },
  {
   "cell_type": "code",
   "execution_count": null,
   "metadata": {},
   "outputs": [],
   "source": [
    "# Check the number of movies that are present int the dict object.\n",
    "len(idx_to_movie)"
   ]
  },
  {
   "cell_type": "code",
   "execution_count": null,
   "metadata": {},
   "outputs": [],
   "source": [
    "total_movies = len(idx_to_movie)\n",
    "movies = [0]*total_movies"
   ]
  },
  {
   "cell_type": "code",
   "execution_count": null,
   "metadata": {},
   "outputs": [],
   "source": [
    "type(movies)"
   ]
  },
  {
   "cell_type": "code",
   "execution_count": null,
   "metadata": {},
   "outputs": [],
   "source": [
    "len(movies)"
   ]
  },
  {
   "cell_type": "code",
   "execution_count": null,
   "metadata": {},
   "outputs": [],
   "source": [
    "for i in range(len(movies)):\n",
    "    if i in idx_to_movie.keys() and len(str(idx_to_movie[i])) == 6:\n",
    "        movies[i] = (idx_to_movie[i]) "
   ]
  },
  {
   "cell_type": "code",
   "execution_count": null,
   "metadata": {},
   "outputs": [],
   "source": [
    "# The function filter(function, list) is used to filter out all the elements of a list, for which function returns True. \n",
    "# The function filter(f, l) needs a function\n",
    "#  - f as its first argument. f returns a Boolean value, i.e. either True or False.\n",
    "#  - This function will be applied to every element of the list l.\n",
    "# Only if f returns True will the element of the list be included in the result list.\n",
    "\n",
    "# In Python3, filter returns an iterator. Hence wrapping the function in list() so that a list is returned\n",
    "movies = list(filter(lambda imdb: imdb != 0, movies))"
   ]
  },
  {
   "cell_type": "code",
   "execution_count": null,
   "metadata": {},
   "outputs": [],
   "source": [
    "type(movies)"
   ]
  },
  {
   "cell_type": "code",
   "execution_count": null,
   "metadata": {},
   "outputs": [],
   "source": [
    "total_movies  = len(movies)"
   ]
  },
  {
   "cell_type": "code",
   "execution_count": null,
   "metadata": {},
   "outputs": [],
   "source": [
    "total_movies"
   ]
  },
  {
   "cell_type": "markdown",
   "metadata": {},
   "source": [
    "<h2> Step 2 - Fetch Movie Poster images</h2>"
   ]
  },
  {
   "cell_type": "code",
   "execution_count": null,
   "metadata": {},
   "outputs": [],
   "source": [
    "import requests\n",
    "import json\n",
    "\n",
    "from IPython.display import Image\n",
    "from IPython.display import display\n",
    "from IPython.display import HTML\n"
   ]
  },
  {
   "cell_type": "code",
   "execution_count": null,
   "metadata": {},
   "outputs": [],
   "source": [
    "# Get base url filepath structure. w185 corresponds to size of movie poster.\n",
    "headers = {'Accept': 'application/json'}\n",
    "payload = {'api_key': 'bb3beb7ec7af6d1c0c23ca7381b62a89'} \n",
    "response = requests.get(\"http://api.themoviedb.org/3/configuration\", params=payload, headers=headers)\n",
    "response = json.loads(response.text)\n",
    "base_url = response['images']['base_url'] + 'w185'"
   ]
  },
  {
   "cell_type": "code",
   "execution_count": null,
   "metadata": {},
   "outputs": [],
   "source": [
    "def get_poster(imdbid, base_url):\n",
    "    # Get IMDB movie ID\n",
    "    movie_id = \"tt0\" + str(imdbid) \n",
    "    \n",
    "    # Query themoviedb.org API for movie poster path.\n",
    "    movie_url = 'http://api.themoviedb.org/3/movie/{:}/images'.format(movie_id)\n",
    "    headers = {'Accept': 'application/json'}\n",
    "    payload = {'api_key': 'bb3beb7ec7af6d1c0c23ca7381b62a89'} \n",
    "    response = requests.get(movie_url, params=payload, headers=headers)\n",
    "    try:\n",
    "        file_path = json.loads(response.text)['posters'][0]['file_path']\n",
    "    except:\n",
    "        file_path = \"\"\n",
    "        \n",
    "    return (base_url + file_path, imdbid)"
   ]
  },
  {
   "cell_type": "code",
   "execution_count": null,
   "metadata": {},
   "outputs": [],
   "source": [
    "URL = [0]*total_movies \n",
    "IMDB = [0]*total_movies \n",
    "URL_IMDB = {\"url\":[],\"imdb\":[]}\n",
    "i = 0\n",
    "for movie in movies:\n",
    "    (URL[i], IMDB[i]) = get_poster(movie, base_url)\n",
    "    if URL[i] != base_url+\"\":\n",
    "        URL_IMDB[\"url\"].append(URL[i])\n",
    "        URL_IMDB[\"imdb\"].append(IMDB[i])\n",
    "    i += 1 \n",
    "# URL = filter(lambda url: url != base_url+\"\", URL)\n"
   ]
  },
  {
   "cell_type": "code",
   "execution_count": null,
   "metadata": {},
   "outputs": [],
   "source": [
    "df = pd.DataFrame(data=URL_IMDB) \n",
    "df"
   ]
  },
  {
   "cell_type": "code",
   "execution_count": null,
   "metadata": {},
   "outputs": [],
   "source": [
    "# images = ''\n",
    "# for i in range(n_display):\n",
    "#     images += \"<img style='width: 120px; margin: 0px; \\\n",
    "#                 float: left; border: 1px solid black;' src='%s' />\" \\\n",
    "#                 % URL[i]\n",
    "\n",
    "# display(HTML(images))"
   ]
  },
  {
   "cell_type": "code",
   "execution_count": null,
   "metadata": {},
   "outputs": [],
   "source": [
    "# The total number of movies that are present in the data frame\n",
    "total_movies = len(df)\n",
    "total_movies"
   ]
  },
  {
   "cell_type": "code",
   "execution_count": null,
   "metadata": {},
   "outputs": [],
   "source": [
    "# Download the movie poster images from the movie website using their exposed APIs. Stored them locally\n",
    "import urllib.request\n",
    "\n",
    "poster_path = \"/home/nbuser/library/dataset/ml-latest-small/posters/\"\n",
    "\n",
    "# Commenting out this code as the movie posters have already been downloaded. Only need to download it once.\n",
    "# for i in range(total_movies):\n",
    "#     urllib.request.urlretrieve(df.url[i], poster_path + str(i) + \".jpg\")"
   ]
  },
  {
   "cell_type": "markdown",
   "metadata": {},
   "source": [
    "<h2> Step 3 - Image Pre-processing</h2>"
   ]
  },
  {
   "cell_type": "markdown",
   "metadata": {},
   "source": [
    "VGG is the Visual Geometry Group at the University of Oxford (http://www.robots.ox.ac.uk/~vgg/). In 2014 utilizing Convolutional Neural Networks, they produced an image classifier that outperformed other classifiers in the 2014 ILSVRC challenge. A research paper outlining their approach and method is present at https://arxiv.org/pdf/1409.1556.pdf"
   ]
  },
  {
   "cell_type": "code",
   "execution_count": null,
   "metadata": {},
   "outputs": [],
   "source": [
    "# Import the VGG model that is included as part of the keras distribution.\n",
    "# Here 16 refers to a 16 layer convolutoinal neural network.\n",
    "from keras.applications import VGG16\n",
    "from keras.applications.vgg16 import preprocess_input\n",
    "from keras.preprocessing import image as kimage\n",
    "\n",
    "# Create two arrays, each of size of the total number of movies\n",
    "img = [0]*total_movies\n",
    "x = [0]*total_movies\n",
    "\n",
    "# Loop through all the movies, and do the following\n",
    "#   1. Load the images in an array\n",
    "#   2. Convert the image instance to a Numpy array using the keras preprocessing function\n",
    "#   3. Expand the array by inserting a new axis that will appear at the axis position in the expanded array shape.\n",
    "#   4. Pre-process this array using the vgg16 model\n",
    "for i in range(total_movies):\n",
    "    img[i] = kimage.load_img(poster_path + str(i) + \".jpg\", target_size=(224, 224))\n",
    "    x[i] = kimage.img_to_array(img[i])\n",
    "    x[i] = np.expand_dims(x[i], axis=0)\n",
    "    x[i] = preprocess_input(x[i])"
   ]
  },
  {
   "cell_type": "markdown",
   "metadata": {},
   "source": [
    "<h2> Step 4 - Image Classification</h2>"
   ]
  },
  {
   "cell_type": "markdown",
   "metadata": {},
   "source": [
    "Image pre-processing has been done. Now time for image classification using the VGG16 pre-built / pre-trained model. Here, the pre-trained model has been previously trained on a dataset and contains the weights and biases that represent the features of whichever dataset it was trained on. Using a pre-trained model saves considerable computing time and resources. "
   ]
  },
  {
   "cell_type": "code",
   "execution_count": null,
   "metadata": {},
   "outputs": [],
   "source": [
    "# The function returns a Keras model instance for VGG16\n",
    "# Arguments\n",
    "#  - image_top: whether to include the 3 fully-connected layers at the top of the network\n",
    "#  - weights: None (random initialization), 'imagenet' (pre-training on ImageNet), or the path to the weights file\n",
    "# model = VGG16(include_top=False, weights='imagenet')\n",
    "model = keras.applications.vgg16(include_top=False, weights='imagenet')\n"
   ]
  },
  {
   "cell_type": "code",
   "execution_count": null,
   "metadata": {},
   "outputs": [],
   "source": [
    "# The current model prediction takes a very long time. Hence reducing the size of the dataset here.\n",
    "total_movies=5"
   ]
  },
  {
   "cell_type": "code",
   "execution_count": null,
   "metadata": {},
   "outputs": [],
   "source": [
    "# Create two arrays, each of size of the total number of movies\n",
    "# pred is the array containing the predicted classification\n",
    "\n",
    "pred = [0]*total_movies\n",
    "pred_norm = [0]*total_movies\n",
    "matrix_res = np.zeros([total_movies,25088])\n",
    "\n",
    "for i in range(total_movies):\n",
    "    pred[i] = model.predict(x[i]).ravel()\n",
    "    matrix_res[i,:] = pred[i]"
   ]
  },
  {
   "cell_type": "code",
   "execution_count": null,
   "metadata": {},
   "outputs": [],
   "source": [
    "sim = matrix_res.dot(matrix_res.T)\n",
    "norms = np.array([np.sqrt(np.diagonal(sim))])\n",
    "sim = sim / norms / norms.T \n",
    "len(pred[0])"
   ]
  },
  {
   "cell_type": "code",
   "execution_count": null,
   "metadata": {},
   "outputs": [],
   "source": [
    "sim"
   ]
  },
  {
   "cell_type": "markdown",
   "metadata": {},
   "source": [
    "<h2> Step 5 - Build Movie Recommender</h2>"
   ]
  },
  {
   "cell_type": "code",
   "execution_count": null,
   "metadata": {},
   "outputs": [],
   "source": [
    "# Load in movie data\n",
    "idx_to_movie2 = {}\n",
    "i = 0\n",
    "\n",
    "for row in df.itertuples():\n",
    "    idx_to_movie2[i] = row[1]\n",
    "    i += 1"
   ]
  },
  {
   "cell_type": "code",
   "execution_count": null,
   "metadata": {},
   "outputs": [],
   "source": [
    "def top_k_movies(similarity, mapper, movie_idx, k=6):\n",
    "    return [mapper[x] for x in np.argsort(similarity[movie_idx,:])[:-k-1:-1]]"
   ]
  },
  {
   "cell_type": "markdown",
   "metadata": {},
   "source": [
    "<h2> Step 6 - Generate Movie Recommendations</h2>"
   ]
  },
  {
   "cell_type": "code",
   "execution_count": null,
   "metadata": {},
   "outputs": [],
   "source": [
    "#idx = 1811\n",
    "idx=3\n",
    "movies = top_k_movies(sim, idx_to_movie2, idx)\n",
    "movies = movies[:5]"
   ]
  },
  {
   "cell_type": "code",
   "execution_count": null,
   "metadata": {},
   "outputs": [],
   "source": [
    "n_display = 5\n",
    "URL = [0]*n_display\n",
    "i = 0\n",
    "for movie in movies:\n",
    "    (URL[i], IMDB[i]) = get_poster(movie, base_url)\n",
    "    i += 1 \n",
    "    \n",
    "images = ''\n",
    "for i in range(n_display):\n",
    "    images += \"<img style='width: 110px; margin: 0px; \\\n",
    "                float: left; border: 1px solid black;' src='%s' />\" \\\n",
    "                % URL[i]\n",
    "\n",
    "display(HTML(images))"
   ]
  }
 ],
 "metadata": {
  "kernelspec": {
   "display_name": "Python 3.6",
   "language": "python",
   "name": "python36"
  },
  "language_info": {
   "codemirror_mode": {
    "name": "ipython",
    "version": 3
   },
   "file_extension": ".py",
   "mimetype": "text/x-python",
   "name": "python",
   "nbconvert_exporter": "python",
   "pygments_lexer": "ipython3",
   "version": "3.6.3"
  }
 },
 "nbformat": 4,
 "nbformat_minor": 2
}
